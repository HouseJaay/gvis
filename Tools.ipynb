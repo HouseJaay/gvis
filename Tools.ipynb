{
 "cells": [
  {
   "cell_type": "markdown",
   "metadata": {
    "collapsed": true,
    "pycharm": {
     "name": "#%% md\n"
    }
   },
   "source": [
    "# Some useful tools"
   ]
  },
  {
   "cell_type": "markdown",
   "source": [
    "## Cut and output coast data"
   ],
   "metadata": {
    "collapsed": false,
    "pycharm": {
     "name": "#%% md\n"
    }
   }
  },
  {
   "cell_type": "code",
   "execution_count": 15,
   "outputs": [],
   "source": [
    "import subprocess\n",
    "\n",
    "import numpy as np\n",
    "\n",
    "latmin, latmax, lonmin, lonmax = 18, 21, -157, -155\n",
    "out = \"./coast\"\n",
    "is_comment = False\n",
    "\n",
    "r = subprocess.run(\"gmt coast -M -R%.1f/%.1f/%.1f/%.1f -W\" % (lonmin, lonmax, latmin, latmax), shell=True, capture_output=True, text=True)\n",
    "lines = r.stdout.split('\\n')\n",
    "with open(out, 'w') as f:\n",
    "    for line in lines:\n",
    "        if line and (not is_comment) and (line[0]=='>'):\n",
    "            continue\n",
    "        else:\n",
    "            f.write(line+'\\n')"
   ],
   "metadata": {
    "collapsed": false,
    "pycharm": {
     "name": "#%%\n"
    }
   }
  },
  {
   "cell_type": "markdown",
   "source": [
    "# SEM Tool functions"
   ],
   "metadata": {
    "collapsed": false,
    "pycharm": {
     "name": "#%% md\n"
    }
   }
  },
  {
   "cell_type": "markdown",
   "source": [
    "## Prepare topography"
   ],
   "metadata": {
    "collapsed": false,
    "pycharm": {
     "name": "#%% md\n"
    }
   }
  },
  {
   "cell_type": "code",
   "execution_count": 3,
   "outputs": [],
   "source": [
    "import pygmt\n",
    "import numpy as np\n",
    "from os.path import join\n",
    "\n",
    "outdir = \"/home/shijie/data/hawaii/sem_test/to_cluster/meshfem3D_files/\"\n",
    "fint = join(outdir, \"interfaces.dat\")\n",
    "flay1 = join(outdir, \"interface1.dat\")\n",
    "flay2 = join(outdir, \"interface2.dat\")\n",
    "latmin, latmax, lonmin, lonmax = 18, 21, -157, -155\n",
    "nlay1 = 15\n",
    "nlay2 = 6\n",
    "\n",
    "grid = pygmt.datasets.load_earth_relief(resolution='15s', region=[lonmin, lonmax, latmin, latmax])"
   ],
   "metadata": {
    "collapsed": false,
    "pycharm": {
     "name": "#%%\n"
    }
   }
  },
  {
   "cell_type": "code",
   "execution_count": 4,
   "outputs": [],
   "source": [
    "lon = grid.coords['lon'].data\n",
    "lat = grid.coords['lat'].data\n",
    "Nx, Ny = len(lon), len(lat)\n",
    "dx = lon[1] - lon[0]\n",
    "dy = lat[1] - lat[0]\n",
    "x0, y0 = lon[0], lat[0]\n",
    "\n",
    "elev = -np.ravel(grid.data, order='C')\n",
    "#elev = np.zeros(np.ravel(grid.data, order='C').shape)\n",
    "np.savetxt(flay2, elev, fmt=\"%.7e\")\n",
    "\n",
    "layer1 = elev + np.ones(elev.shape) * (-10000)\n",
    "np.savetxt(flay1, layer1, fmt=\"%.7e\")\n",
    "\n",
    "with open(fint, 'w') as f:\n",
    "    f.write(\"2\\n\") # number of interfaces\n",
    "    f.write(\".false. %d %d %.7f %.7f %.7f %.7f\\n\" % (Nx, Ny, x0, y0, dx, dy))\n",
    "    f.write(\"interface1.dat\\n\")\n",
    "    f.write(\".false. %d %d %.7f %.7f %.7f %.7f\\n\" % (Nx, Ny, x0, y0, dx, dy))\n",
    "    f.write(\"interface2.dat\\n\")\n",
    "    f.write(\"%d\\n%d\\n\" % (nlay1, nlay2))"
   ],
   "metadata": {
    "collapsed": false,
    "pycharm": {
     "name": "#%%\n"
    }
   }
  }
 ],
 "metadata": {
  "kernelspec": {
   "display_name": "Python 3",
   "language": "python",
   "name": "python3"
  },
  "language_info": {
   "codemirror_mode": {
    "name": "ipython",
    "version": 2
   },
   "file_extension": ".py",
   "mimetype": "text/x-python",
   "name": "python",
   "nbconvert_exporter": "python",
   "pygments_lexer": "ipython2",
   "version": "2.7.6"
  }
 },
 "nbformat": 4,
 "nbformat_minor": 0
}